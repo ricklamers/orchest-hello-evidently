{
 "cells": [
  {
   "cell_type": "code",
   "execution_count": 1,
   "metadata": {},
   "outputs": [],
   "source": [
    "from sklearn import datasets\n",
    "\n",
    "from evidently.dashboard import Dashboard\n",
    "from evidently.dashboard.tabs import (\n",
    "    DataDriftTab,\n",
    "    CatTargetDriftTab\n",
    ")\n",
    "\n",
    "iris = datasets.load_iris(as_frame=True)\n",
    "iris_frame, iris_frame[\"target\"] = iris.data, iris.target"
   ]
  },
  {
   "cell_type": "code",
   "execution_count": 3,
   "metadata": {},
   "outputs": [
    {
     "name": "stderr",
     "output_type": "stream",
     "text": [
      "/opt/conda/lib/python3.9/site-packages/scipy/stats/_stats_py.py:7160: RuntimeWarning:\n",
      "\n",
      "divide by zero encountered in divide\n",
      "\n"
     ]
    }
   ],
   "source": [
    "iris_data_drift_report = Dashboard(tabs=[DataDriftTab()])\n",
    "iris_data_drift_report.calculate(iris_frame[:100], iris_frame[100:], column_mapping = None)\n",
    "iris_data_drift_report.save(\"reports/my_report.html\")"
   ]
  },
  {
   "cell_type": "code",
   "execution_count": 4,
   "metadata": {},
   "outputs": [
    {
     "name": "stderr",
     "output_type": "stream",
     "text": [
      "/opt/conda/lib/python3.9/site-packages/scipy/stats/_stats_py.py:7160: RuntimeWarning:\n",
      "\n",
      "divide by zero encountered in divide\n",
      "\n",
      "/opt/conda/lib/python3.9/site-packages/scipy/stats/_stats_py.py:7160: RuntimeWarning:\n",
      "\n",
      "divide by zero encountered in divide\n",
      "\n"
     ]
    }
   ],
   "source": [
    "iris_data_and_target_drift_report = Dashboard(tabs=[DataDriftTab(), CatTargetDriftTab()])\n",
    "iris_data_and_target_drift_report.calculate(iris_frame[:100], iris_frame[100:], column_mapping = None)\n",
    "iris_data_and_target_drift_report.save(\"reports/my_report_with_2_tabs.html\")"
   ]
  }
 ],
 "metadata": {
  "kernelspec": {
   "display_name": "Python 3",
   "language": "python",
   "name": "orchest-kernel-1b17180f-f013-43b0-a14c-f4ef563f160a"
  },
  "language_info": {
   "codemirror_mode": {
    "name": "ipython",
    "version": 3
   },
   "file_extension": ".py",
   "mimetype": "text/x-python",
   "name": "python",
   "nbconvert_exporter": "python",
   "pygments_lexer": "ipython3",
   "version": "3.9.10"
  }
 },
 "nbformat": 4,
 "nbformat_minor": 4
}
